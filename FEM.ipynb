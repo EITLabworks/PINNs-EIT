{
 "cells": [
  {
   "cell_type": "markdown",
   "id": "3c7771b5-48f7-409c-8368-ba739d200391",
   "metadata": {},
   "source": [
    "# 2D plate capacitor example"
   ]
  },
  {
   "cell_type": "code",
   "execution_count": 2,
   "id": "caad84ee-7196-4407-b449-4285258af6e0",
   "metadata": {},
   "outputs": [],
   "source": [
    "from pinnfem import Rect, Circ, plot_geo, wrap_to_mesh, solve\n",
    "from ngsolve.webgui import Draw"
   ]
  },
  {
   "cell_type": "code",
   "execution_count": 3,
   "id": "6f92198c-7197-4551-96eb-33161cbd5cd2",
   "metadata": {},
   "outputs": [
    {
     "name": "stdout",
     "output_type": "stream",
     "text": [
      "Got a list of 4 geometries.\n"
     ]
    },
    {
     "data": {
      "image/png": "[encoded data removed]",
      "text/plain": [
       "<Figure size 640x480 with 1 Axes>"
      ]
     },
     "metadata": {},
     "output_type": "display_data"
    }
   ],
   "source": [
    "solve_BC = {\n",
    "    \"bc\": \"default\",\n",
    "    \"mat\": \"air\",\n",
    "    \"mat_perm\": 1,\n",
    "    \"pot_val\": 0,\n",
    "}\n",
    "Ω = Rect(-1, -1, 2, 2, BC=solve_BC)\n",
    "\n",
    "solve_BC = {\"bc\": \"bc_plate1\", \"mat\": \"el_mat\", \"mat_perm\": 5.0, \"pot_val\": 10}\n",
    "plate1 = Circ(0.5, 0.5, 0.1, BC=solve_BC)\n",
    "\n",
    "solve_BC = {\"bc\": \"bc_plate2\", \"mat\": \"el_mat\", \"mat_perm\": 5.0, \"pot_val\": -10}\n",
    "plate2 = Circ(-0.5, -0.5, 0.2, BC=solve_BC)\n",
    "\n",
    "solve_BC = {\"bc\": \"bc_plate3\", \"mat\": \"el_mat\", \"mat_perm\": 2.0, \"pot_val\": 15}\n",
    "plate3 = Rect(-0.5, 0.5, 0.2, 0.2, BC=solve_BC)\n",
    "\n",
    "plot_geo([Ω, plate1, plate2, plate3])"
   ]
  },
  {
   "cell_type": "code",
   "execution_count": 4,
   "id": "2f205f14-6e80-466a-9e4c-4c2c0d94c3c1",
   "metadata": {},
   "outputs": [],
   "source": [
    "refinement = 0.05\n",
    "mesh = wrap_to_mesh(Ω, [plate1, plate2, plate3], refinement)"
   ]
  },
  {
   "cell_type": "code",
   "execution_count": 5,
   "id": "17630238-fc34-48d7-a7f1-9cd9acf5ea62",
   "metadata": {},
   "outputs": [
    {
     "data": {
      "application/vnd.jupyter.widget-view+json": {
       "model_id": "5318c63aa0394624ab2ee181d15a0da3",
       "version_major": 2,
       "version_minor": 0
      },
      "text/plain": [
       "WebGuiWidget(layout=Layout(height='50vh', width='100%'), value={'gui_settings': {}, 'ngsolve_version': '6.2.24…"
      ]
     },
     "metadata": {},
     "output_type": "display_data"
    },
    {
     "data": {
      "text/plain": [
       "BaseWebGuiScene"
      ]
     },
     "execution_count": 5,
     "metadata": {},
     "output_type": "execute_result"
    }
   ],
   "source": [
    "Draw(mesh)"
   ]
  },
  {
   "cell_type": "code",
   "execution_count": 6,
   "id": "85233308-eec1-4204-9d84-59e2fc10ea19",
   "metadata": {},
   "outputs": [
    {
     "data": {
      "application/vnd.jupyter.widget-view+json": {
       "model_id": "805e366e9a9a4e1f8ea95ff9f367faeb",
       "version_major": 2,
       "version_minor": 0
      },
      "text/plain": [
       "WebGuiWidget(layout=Layout(height='50vh', width='100%'), value={'gui_settings': {}, 'ngsolve_version': '6.2.24…"
      ]
     },
     "metadata": {},
     "output_type": "display_data"
    }
   ],
   "source": [
    "# solve and get grid function\n",
    "gfu = solve(Ω, [plate1, plate2, plate3], refinement)"
   ]
  },
  {
   "cell_type": "code",
   "execution_count": 7,
   "id": "e01bf6b3-b9ff-4607-acc7-3f8122547e98",
   "metadata": {},
   "outputs": [],
   "source": [
    "from pinnfem import exclude_points_in_region\n",
    "import numpy as np"
   ]
  },
  {
   "cell_type": "code",
   "execution_count": 21,
   "id": "1e4bcddd-0912-4717-8674-da31f5877dbb",
   "metadata": {},
   "outputs": [],
   "source": [
    "import matplotlib.pyplot as plt\n",
    "\n",
    "\n",
    "def plot_results(X, Y, val):\n",
    "    val = val.reshape(X.shape)\n",
    "    plt.figure(figsize=(8, 6))\n",
    "    plt.contourf(X, Y, val, 100, cmap=\"coolwarm\", vmin=np.min(val), vmax=np.max(val))\n",
    "    plt.colorbar(label=\"Potential u(x, y)\")\n",
    "    plt.title(\"Predicted Potential Distribution\")\n",
    "    plt.xlabel(\"x\")\n",
    "    plt.ylabel(\"y\")\n",
    "    plt.gca().set_aspect(\"equal\", adjustable=\"box\")\n",
    "    plt.show()"
   ]
  },
  {
   "cell_type": "code",
   "execution_count": 8,
   "id": "c652c9ee-1ffb-4453-b433-f48b29748795",
   "metadata": {},
   "outputs": [
    {
     "name": "stdout",
     "output_type": "stream",
     "text": [
      "(10000, 2)\n",
      "Got a list of 3 geometries to exclude.\n"
     ]
    }
   ],
   "source": [
    "X, Y, Pt = Ω.generate_grid()\n",
    "print(Pt.shape)\n",
    "Pts = exclude_points_in_region(Pt, [plate1, plate2, plate3])\n",
    "x, y = Pts[:, 0], Pts[:, 1]\n",
    "X, Y = np.meshgrid(x, y)\n",
    "vals = np.array([gfu(mesh(*p)) for p in Pts])\n",
    "# X,Y,Pts"
   ]
  },
  {
   "cell_type": "code",
   "execution_count": 9,
   "id": "22a28c39-47dd-4583-bd12-a31d762f67af",
   "metadata": {},
   "outputs": [
    {
     "data": {
      "text/plain": [
       "((9617, 9617), (9617, 9617), (9617,))"
      ]
     },
     "execution_count": 9,
     "metadata": {},
     "output_type": "execute_result"
    }
   ],
   "source": [
    "X.shape, Y.shape, vals.shape"
   ]
  },
  {
   "cell_type": "code",
   "execution_count": 10,
   "id": "0c8e7a8f-f195-459c-b917-cb392c58d504",
   "metadata": {},
   "outputs": [
    {
     "ename": "NameError",
     "evalue": "name 'plt' is not defined",
     "output_type": "error",
     "traceback": [
      "\u001b[0;31m---------------------------------------------------------------------------\u001b[0m",
      "\u001b[0;31mNameError\u001b[0m                                 Traceback (most recent call last)",
      "Cell \u001b[0;32mIn[10], line 1\u001b[0m\n\u001b[0;32m----> 1\u001b[0m \u001b[43mplt\u001b[49m\u001b[38;5;241m.\u001b[39mcontourf(X, Y, vals, \u001b[38;5;241m100\u001b[39m, cmap\u001b[38;5;241m=\u001b[39m\u001b[38;5;124m'\u001b[39m\u001b[38;5;124mcoolwarm\u001b[39m\u001b[38;5;124m'\u001b[39m)\n",
      "\u001b[0;31mNameError\u001b[0m: name 'plt' is not defined"
     ]
    }
   ],
   "source": [
    "plt.contourf(X, Y, vals, 100, cmap=\"coolwarm\")"
   ]
  },
  {
   "cell_type": "code",
   "execution_count": 24,
   "id": "ecc751e4-a1fd-40a2-98de-077c352413e4",
   "metadata": {},
   "outputs": [
    {
     "ename": "ValueError",
     "evalue": "cannot reshape array of size 9617 into shape (9617,9617)",
     "output_type": "error",
     "traceback": [
      "\u001b[0;31m---------------------------------------------------------------------------\u001b[0m",
      "\u001b[0;31mValueError\u001b[0m                                Traceback (most recent call last)",
      "Cell \u001b[0;32mIn[24], line 1\u001b[0m\n\u001b[0;32m----> 1\u001b[0m \u001b[43mplot_results\u001b[49m\u001b[43m(\u001b[49m\u001b[43mX\u001b[49m\u001b[43m,\u001b[49m\u001b[43mY\u001b[49m\u001b[43m,\u001b[49m\u001b[43mvals\u001b[49m\u001b[43m)\u001b[49m\n",
      "Cell \u001b[0;32mIn[21], line 3\u001b[0m, in \u001b[0;36mplot_results\u001b[0;34m(X, Y, val)\u001b[0m\n\u001b[1;32m      2\u001b[0m \u001b[38;5;28;01mdef\u001b[39;00m \u001b[38;5;21mplot_results\u001b[39m(X,Y, val):\n\u001b[0;32m----> 3\u001b[0m     val \u001b[38;5;241m=\u001b[39m \u001b[43mval\u001b[49m\u001b[38;5;241;43m.\u001b[39;49m\u001b[43mreshape\u001b[49m\u001b[43m(\u001b[49m\u001b[43mX\u001b[49m\u001b[38;5;241;43m.\u001b[39;49m\u001b[43mshape\u001b[49m\u001b[43m)\u001b[49m\n\u001b[1;32m      4\u001b[0m     plt\u001b[38;5;241m.\u001b[39mfigure(figsize\u001b[38;5;241m=\u001b[39m(\u001b[38;5;241m8\u001b[39m, \u001b[38;5;241m6\u001b[39m))\n\u001b[1;32m      5\u001b[0m     plt\u001b[38;5;241m.\u001b[39mcontourf(X, Y, val, \u001b[38;5;241m100\u001b[39m, cmap\u001b[38;5;241m=\u001b[39m\u001b[38;5;124m'\u001b[39m\u001b[38;5;124mcoolwarm\u001b[39m\u001b[38;5;124m'\u001b[39m, vmin\u001b[38;5;241m=\u001b[39mnp\u001b[38;5;241m.\u001b[39mmin(val), vmax\u001b[38;5;241m=\u001b[39mnp\u001b[38;5;241m.\u001b[39mmax(val))\n",
      "\u001b[0;31mValueError\u001b[0m: cannot reshape array of size 9617 into shape (9617,9617)"
     ]
    }
   ],
   "source": [
    "plot_results(X, Y, vals)"
   ]
  },
  {
   "cell_type": "code",
   "execution_count": null,
   "id": "c9a7682d-d3e4-4607-9147-e4e0bc849973",
   "metadata": {},
   "outputs": [],
   "source": [
    "import numpy as np\n",
    "import matplotlib.pyplot as plt\n",
    "\n",
    "# Dummy-Daten für X, Y und vals\n",
    "# X, Y sind Gitternetze mit Shape (9617, 9617)\n",
    "x = np.linspace(-10, 10, 9617)\n",
    "y = np.linspace(-10, 10, 9617)\n",
    "X, Y = np.meshgrid(x, y)\n",
    "\n",
    "# Beispielwerte für vals (9617,)\n",
    "vals = np.sin(np.linspace(0, 20, 9617))\n",
    "\n",
    "# Reshape von vals auf (9617, 9617)\n",
    "Z = np.tile(vals, (9617, 1))\n",
    "\n",
    "# Plotten mit contourf\n",
    "plt.figure(figsize=(8, 6))\n",
    "contour = plt.contourf(X, Y, Z, 100, cmap=\"coolwarm\")\n",
    "plt.colorbar(contour)\n",
    "plt.title(\"Contourf Plot von X, Y und reshaped vals\")\n",
    "plt.xlabel(\"X-Achse\")\n",
    "plt.ylabel(\"Y-Achse\")\n",
    "plt.show()"
   ]
  },
  {
   "cell_type": "code",
   "execution_count": null,
   "id": "4a58c830-2d4b-42ad-9015-1a1f8026f831",
   "metadata": {},
   "outputs": [],
   "source": []
  }
 ],
 "metadata": {
  "kernelspec": {
   "display_name": "Python 3 (ipykernel)",
   "language": "python",
   "name": "python3"
  },
  "language_info": {
   "codemirror_mode": {
    "name": "ipython",
    "version": 3
   },
   "file_extension": ".py",
   "mimetype": "text/x-python",
   "name": "python",
   "nbconvert_exporter": "python",
   "pygments_lexer": "ipython3",
   "version": "3.10.13"
  }
 },
 "nbformat": 4,
 "nbformat_minor": 5
}
