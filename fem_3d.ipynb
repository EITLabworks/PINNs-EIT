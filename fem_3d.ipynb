{
 "cells": [
  {
   "cell_type": "markdown",
   "id": "91bb9536-46f3-43f5-bb23-608bdc178243",
   "metadata": {},
   "source": [
    "## 3d plate capacitor"
   ]
  },
  {
   "cell_type": "code",
   "execution_count": 4,
   "id": "88e0eecf-6aa7-4b6b-80a4-8d080f73b5ab",
   "metadata": {
    "tags": []
   },
   "outputs": [],
   "source": [
    "from netgen.occ import *\n",
    "from ngsolve.webgui import Draw\n",
    "from ngsolve import Mesh"
   ]
  },
  {
   "cell_type": "code",
   "execution_count": 5,
   "id": "8b28c015-5456-4d8b-843d-d6f7a7017061",
   "metadata": {
    "tags": []
   },
   "outputs": [],
   "source": [
    "# gen mesh\n",
    "el1 = Box(Pnt(-0.5, -0.5, -0.6), Pnt(0.5, 0.5, -0.5)).bc(\"bc_el1\").mat(\"egal\")\n",
    "el2 = Box(Pnt(-0.5, -0.5, 0.5), Pnt(0.5, 0.5, 0.6)).bc(\"bc_el2\").mat(\"egal\")\n",
    "air = Box(Pnt(-1, -1, -1), Pnt(1, 1, 1)) - el1 - el2\n",
    "\n",
    "el1.mat(\"unknwn\")\n",
    "el2.mat(\"unknwn\")\n",
    "air.mat(\"air\")\n",
    "geo = OCCGeometry(Glue([air, el1, el2]))\n",
    "mesh = Mesh(geo.GenerateMesh(maxh=1))"
   ]
  },
  {
   "cell_type": "code",
   "execution_count": 6,
   "id": "35bee237-7455-42cd-b8db-f6369ffd0df1",
   "metadata": {
    "tags": []
   },
   "outputs": [
    {
     "data": {
      "application/vnd.jupyter.widget-view+json": {
       "model_id": "480da5048e774e98a41f09e417ae3c86",
       "version_major": 2,
       "version_minor": 0
      },
      "text/plain": [
       "WebGuiWidget(layout=Layout(height='50vh', width='100%'), value={'gui_settings': {}, 'ngsolve_version': '6.2.24…"
      ]
     },
     "metadata": {},
     "output_type": "display_data"
    },
    {
     "data": {
      "text/plain": [
       "BaseWebGuiScene"
      ]
     },
     "execution_count": 6,
     "metadata": {},
     "output_type": "execute_result"
    }
   ],
   "source": [
    "Draw(mesh)"
   ]
  },
  {
   "cell_type": "code",
   "execution_count": 7,
   "id": "c0ce4c07-3447-4cab-924a-894374c60fff",
   "metadata": {
    "tags": []
   },
   "outputs": [
    {
     "name": "stdout",
     "output_type": "stream",
     "text": [
      "('default', 'default', 'default', 'default', 'default', 'default', 'bc_el1', 'bc_el1', 'bc_el1', 'bc_el1', 'bc_el1', 'bc_el1', 'bc_el2', 'bc_el2', 'bc_el2', 'bc_el2', 'bc_el2', 'bc_el2')\n"
     ]
    }
   ],
   "source": [
    "print(mesh.GetBoundaries())"
   ]
  },
  {
   "cell_type": "code",
   "execution_count": 8,
   "id": "b5ea88f7-4098-4e49-bd3f-2499bb9b8813",
   "metadata": {
    "tags": []
   },
   "outputs": [
    {
     "name": "stdout",
     "output_type": "stream",
     "text": [
      "('air', 'unknwn', 'unknwn')\n"
     ]
    }
   ],
   "source": [
    "print(mesh.GetMaterials())"
   ]
  },
  {
   "cell_type": "code",
   "execution_count": 9,
   "id": "a412174f-245a-4b2f-89e5-3dcf1d9c3cb3",
   "metadata": {
    "tags": []
   },
   "outputs": [],
   "source": [
    "from collections import defaultdict\n",
    "from ngsolve import CoefficientFunction"
   ]
  },
  {
   "cell_type": "code",
   "execution_count": 10,
   "id": "e47d9e89-f894-46de-a7fa-e0528a7b120c",
   "metadata": {
    "tags": []
   },
   "outputs": [],
   "source": [
    "diel_perm = defaultdict(lambda: -1)  # -1 ist default\n",
    "# all diel_perm[\"unknwn\"] = -1\n",
    "diel_perm[\"air\"] = 1.0\n",
    "diel_perm_cf = CoefficientFunction([diel_perm[mat] for mat in mesh.GetMaterials()])\n",
    "\n",
    "voltage = 4\n",
    "potential = defaultdict(lambda: 0)\n",
    "potential[\"bc_el1\"] = voltage / 2\n",
    "potential[\"bc_el2\"] = -voltage / 2\n",
    "potential_cf = CoefficientFunction([potential[bnd] for bnd in mesh.GetBoundaries()])\n",
    "potential_str = \"bc_el1|bc_el2\""
   ]
  },
  {
   "cell_type": "code",
   "execution_count": 11,
   "id": "b39086c5-bd89-4045-a6cb-51afd1b10e9d",
   "metadata": {
    "tags": []
   },
   "outputs": [
    {
     "data": {
      "application/vnd.jupyter.widget-view+json": {
       "model_id": "ee59c38d8ebe4c51b30729896d4ffdb9",
       "version_major": 2,
       "version_minor": 0
      },
      "text/plain": [
       "WebGuiWidget(layout=Layout(height='50vh', width='100%'), value={'gui_settings': {}, 'ngsolve_version': '6.2.24…"
      ]
     },
     "metadata": {},
     "output_type": "display_data"
    },
    {
     "data": {
      "text/plain": [
       "BaseWebGuiScene"
      ]
     },
     "execution_count": 11,
     "metadata": {},
     "output_type": "execute_result"
    }
   ],
   "source": [
    "Draw(potential_cf, mesh, \"Potential\")"
   ]
  },
  {
   "cell_type": "code",
   "execution_count": 12,
   "id": "d90c678e-7bf5-42b6-be95-14f9211846e3",
   "metadata": {
    "tags": []
   },
   "outputs": [],
   "source": [
    "dirichlet_str = \"air|bc_el1|bc_el2\""
   ]
  },
  {
   "cell_type": "code",
   "execution_count": 13,
   "id": "999c4ee2-3bd9-42cc-85a6-caf69292e769",
   "metadata": {
    "tags": []
   },
   "outputs": [],
   "source": [
    "from ngsolve import H1, BilinearForm, grad, dx, GridFunction, Grad"
   ]
  },
  {
   "cell_type": "code",
   "execution_count": 14,
   "id": "89d25100-0c4f-486c-b220-cfdf181cf504",
   "metadata": {
    "tags": []
   },
   "outputs": [],
   "source": [
    "fes = H1(mesh, order=3, dirichlet=dirichlet_str)\n",
    "ut, vt = fes.TnT()\n",
    "a = BilinearForm(fes)\n",
    "\n",
    "a += diel_perm_cf * grad(ut) * grad(vt) * dx\n",
    "a.Assemble()\n",
    "u = GridFunction(fes, name=\"Potential\")\n",
    "u.Set(potential_cf, definedon=mesh.Boundaries(potential_str))\n",
    "f = u.vec.CreateVector()\n",
    "f.data = a.mat * u.vec\n",
    "u.vec.data -= a.mat.Inverse(fes.FreeDofs(), inverse=\"sparsecholesky\") * f"
   ]
  },
  {
   "cell_type": "code",
   "execution_count": 15,
   "id": "0404f6df-e30f-4eac-b1c5-30e0286b1b83",
   "metadata": {
    "tags": []
   },
   "outputs": [
    {
     "data": {
      "application/vnd.jupyter.widget-view+json": {
       "model_id": "ea31d96a446f40e9a5913d7e0e95e164",
       "version_major": 2,
       "version_minor": 0
      },
      "text/plain": [
       "WebGuiWidget(layout=Layout(height='50vh', width='100%'), value={'gui_settings': {}, 'ngsolve_version': '6.2.24…"
      ]
     },
     "metadata": {},
     "output_type": "display_data"
    },
    {
     "data": {
      "text/plain": [
       "BaseWebGuiScene"
      ]
     },
     "execution_count": 15,
     "metadata": {},
     "output_type": "execute_result"
    }
   ],
   "source": [
    "Draw(u)"
   ]
  },
  {
   "cell_type": "code",
   "execution_count": null,
   "id": "84f4314f-212e-4152-b619-0cfea7c8fa8b",
   "metadata": {},
   "outputs": [],
   "source": [
    "# E = -Grad(u)\n",
    "# Draw(E, mesh, \"E\")"
   ]
  },
  {
   "cell_type": "code",
   "execution_count": null,
   "id": "357c6db3-a8f9-4057-82f5-db1295b3cba7",
   "metadata": {},
   "outputs": [],
   "source": [
    "from netgen.occ import "
   ]
  }
 ],
 "metadata": {
  "kernelspec": {
   "display_name": "Python 3 (ipykernel)",
   "language": "python",
   "name": "python3"
  },
  "language_info": {
   "codemirror_mode": {
    "name": "ipython",
    "version": 3
   },
   "file_extension": ".py",
   "mimetype": "text/x-python",
   "name": "python",
   "nbconvert_exporter": "python",
   "pygments_lexer": "ipython3",
   "version": "3.11.2"
  }
 },
 "nbformat": 4,
 "nbformat_minor": 5
}
