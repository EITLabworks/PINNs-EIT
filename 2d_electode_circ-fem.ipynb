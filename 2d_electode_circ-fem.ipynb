{
 "cells": [
  {
   "cell_type": "code",
   "execution_count": null,
   "id": "9894128b-14de-4948-8e6e-bd0c3dc167ba",
   "metadata": {},
   "outputs": [],
   "source": [
    "import numpy as np\n",
    "import matplotlib.pyplot as plt\n",
    "\n",
    "from pinneit import Circ, Rect, plot_geo, exclude_points_in_region, plot_prediction"
   ]
  },
  {
   "cell_type": "code",
   "execution_count": null,
   "id": "a60b3333-b0d2-4b85-a6c3-269087da7fe6",
   "metadata": {},
   "outputs": [],
   "source": [
    "Ω_bc = {\"material\":\"mat1\",\"mat_val\":0, \"bc\":\"outer\"} # mat1 -> background\n",
    "Ω = Rect(-1, -1, 2, 2, BC = Ω_bc)\n",
    "Γ_bc = {\"material\":\"mat2\",\"mat_val\":100, \"bc\":\"bc_circle1\"} # mat2 -> electrode\n",
    "Γ = Circ(0.5, 0.5, 0.1, BC = Γ_bc)\n",
    "Γ_bc = {\"material\":\"mat3\",\"mat_val\":-100, \"bc\":\"bc_circle2\"} # mat2 -> electrode\n",
    "Γ2 = Circ(-0.5, -0.5, 0.1, BC = Γ_bc)"
   ]
  },
  {
   "cell_type": "code",
   "execution_count": null,
   "id": "2d630be2-ce28-4b2d-bd67-4ef458a01216",
   "metadata": {},
   "outputs": [],
   "source": [
    "plot_geo([Ω, Γ,Γ2])"
   ]
  },
  {
   "cell_type": "code",
   "execution_count": null,
   "id": "c777326c-4ac8-4bb7-8e9a-5349ad181b65",
   "metadata": {},
   "outputs": [],
   "source": [
    "from netgen.geom2d import CSG2d, Circle, Rectangle\n",
    "from ngsolve.webgui import Draw\n",
    "from ngsolve import Mesh, VOL, H1, GridFunction,BilinearForm\n",
    "\n",
    "def create_geo_component(geometry):\n",
    "    if geometry.geo_type == \"Rect\":\n",
    "        domain = Rectangle(pmin=(geometry.x_min,geometry.y_min), pmax=(geometry.x_max,geometry.y_max), mat=geometry.BC[\"material\"], bc=geometry.BC[\"bc\"] )\n",
    "    elif geometry.geo_type == \"Circ\":\n",
    "        domain = Circle( center=(geometry.x,geometry.y), radius=geometry.r, mat=geometry.BC[\"material\"], bc=geometry.BC[\"bc\"] )\n",
    "    return domain\n",
    "\n",
    "\n",
    "def wrap_to_mesh(main, interior_s, refinement = 0.05, draw = False):\n",
    "    \n",
    "    if isinstance(interior_s, list):\n",
    "        print(f\"Got a list of {len(interior_s)} geometries.\")\n",
    "    else:\n",
    "        interior_s = [interior_s]\n",
    "        \n",
    "    geo = CSG2d()\n",
    "    \n",
    "    regionCFf_dict = {main.BC[\"material\"] : main.BC[\"mat_val\"]}\n",
    "    background = create_geo_component(main)\n",
    "\n",
    "    for ints in interior_s:\n",
    "        regionCFf_dict[ints.BC[\"material\"]] = ints.BC[\"mat_val\"]\n",
    "        sub_domain = create_geo_component(ints)\n",
    "        background = background - sub_domain # \"-\" is subtsraction, \"*\" is union\n",
    "    geo.Add(background)\n",
    "\n",
    "    mesh = geo.GenerateMesh(maxh=refinement)\n",
    "    mesh = Mesh(mesh)\n",
    "    # curve the mesh elements for geometry approximation of given order\n",
    "    mesh.Curve(3)\n",
    "    print(\"boundaries:\",mesh.GetBoundaries())\n",
    "    #cf = mesh.RegionCF(VOL, regionCFf_dict)\n",
    "    if draw:\n",
    "        # Draw(cf, mesh)\n",
    "        Draw (mesh)\n",
    "    return mesh"
   ]
  },
  {
   "cell_type": "code",
   "execution_count": null,
   "id": "e59e990b-556f-4a72-b9ed-496e365dfad1",
   "metadata": {},
   "outputs": [],
   "source": [
    "mesh = wrap_to_mesh(Ω,[Γ,Γ2])"
   ]
  },
  {
   "cell_type": "code",
   "execution_count": null,
   "id": "e2cb2d51-db2f-4d67-bd55-900a1f6b0455",
   "metadata": {},
   "outputs": [],
   "source": [
    "Draw(mesh)"
   ]
  },
  {
   "cell_type": "markdown",
   "id": "8e7028a1-4f38-4bda-bbae-637187ac5add",
   "metadata": {},
   "source": [
    "## Example"
   ]
  },
  {
   "cell_type": "code",
   "execution_count": null,
   "id": "15f1f190-441e-4ab2-bae6-bf212029bb28",
   "metadata": {},
   "outputs": [],
   "source": [
    "from ngsolve import unit_square, x"
   ]
  },
  {
   "cell_type": "code",
   "execution_count": null,
   "id": "b391231a-037e-4d0d-8772-a6f82da3a9e8",
   "metadata": {},
   "outputs": [],
   "source": [
    "mesh = Mesh(unit_square.GenerateMesh(maxh=0.2))#maxh=0.25))"
   ]
  },
  {
   "cell_type": "code",
   "execution_count": null,
   "id": "d1b2e980-716a-4cb6-87e1-9def8c173b76",
   "metadata": {},
   "outputs": [],
   "source": [
    "mesh.nv, mesh.ne"
   ]
  },
  {
   "cell_type": "code",
   "execution_count": null,
   "id": "83de7277-9978-4d3c-84b7-635114940687",
   "metadata": {},
   "outputs": [],
   "source": [
    "fes = H1(mesh, order=2, dirichlet=\"top|left|right\")\n",
    "fes.ndof  # number of unknowns in this space"
   ]
  },
  {
   "cell_type": "code",
   "execution_count": null,
   "id": "7929984b-6ff8-4ca3-ae97-7bdd0380e2f2",
   "metadata": {},
   "outputs": [],
   "source": [
    "u = fes.TrialFunction()  # symbolic object\n",
    "v = fes.TestFunction()   # symbolic object\n",
    "\n",
    "# u, v = fes.TnT()\n",
    "\n",
    "gfu = GridFunction(fes)  # solution \n"
   ]
  },
  {
   "cell_type": "code",
   "execution_count": null,
   "id": "a7c90b7a-ee9e-4e66-9220-82657b1d4c9e",
   "metadata": {},
   "outputs": [],
   "source": [
    "a = BilinearForm(fes, symmetric=True)\n",
    "a += SymbolicBFI(grad(u)*grad(v))\n",
    "a.Assemble()\n",
    "\n",
    "f = LinearForm(fes)\n",
    "f += SymbolicLFI(x*v)\n",
    "f.Assemble()"
   ]
  },
  {
   "cell_type": "code",
   "execution_count": null,
   "id": "e3bd8879-9858-4606-88cf-f0de19dc23e2",
   "metadata": {},
   "outputs": [],
   "source": [
    "#gfu.vec.data = a.mat.Inverse(freedofs=fes.FreeDofs(), inverse='umfpack')*f.vec\n",
    "gfu.vec.data = a.mat.Inverse(freedofs=fes.FreeDofs(), inverse='sparsecholesky')*f.vec\n",
    "#gfu.vec.data = a.mat.Inverse(freedofs=fes.FreeDofs()) * f.vec\n",
    "Draw(gfu)"
   ]
  },
  {
   "cell_type": "markdown",
   "id": "e67c7cc2-7440-46be-b4fe-734cbb3319dd",
   "metadata": {},
   "source": [
    "## 2D"
   ]
  },
  {
   "cell_type": "code",
   "execution_count": 2,
   "id": "a2e6a2aa-6206-48ce-808d-9ecb560bca9a",
   "metadata": {},
   "outputs": [],
   "source": [
    "from netgen.geom2d import CSG2d, Circle, Rectangle\n",
    "from ngsolve import Mesh\n",
    "from ngsolve.webgui import Draw"
   ]
  },
  {
   "cell_type": "code",
   "execution_count": null,
   "id": "f3d8c432-d56c-406d-8aa5-7c0388ca57d2",
   "metadata": {},
   "outputs": [],
   "source": [
    "geo = CSG2d()\n",
    "#el1 = Circle(center=(0.5,0.5), radius=0.1, bc = \"bc_el1\", mat = \"el_mat\")\n",
    "el1 = Rectangle(pmin=(-1.5,-0.5), pmax=(-1,0.5), bc = \"bc_el1\", mat = \"el_mat\")\n",
    "el2 = Rectangle(pmin=(1.5,-0.5), pmax=(1.5,0.5), bc = \"bc_el2\", mat = \"el_mat\")\n",
    "domain = Rectangle(pmin=(-3,-2), pmax=(3,2), bc = \"default\", mat = \"air\") - el1 - el2\n",
    "geo.Add(domain)\n",
    "geo.Add(el1)\n",
    "mesh = Mesh(geo.GenerateMesh(maxh=0.2))"
   ]
  },
  {
   "cell_type": "code",
   "execution_count": null,
   "id": "7d8cfb9c-1779-493a-aff2-56c788b8f458",
   "metadata": {},
   "outputs": [],
   "source": [
    "Draw(mesh)"
   ]
  },
  {
   "cell_type": "code",
   "execution_count": 15,
   "id": "3646d594-62f8-4dd8-9f9b-df9befc76e10",
   "metadata": {},
   "outputs": [
    {
     "name": "stdout",
     "output_type": "stream",
     "text": [
      "('default', 'default', 'default', 'default', 'bc_el1', 'bc_el1', 'bc_el1', 'bc_el1')\n",
      "('air', 'el_mat')\n"
     ]
    }
   ],
   "source": [
    "print(mesh.GetBoundaries())\n",
    "print(mesh.GetMaterials())"
   ]
  },
  {
   "cell_type": "code",
   "execution_count": 16,
   "id": "54911b59-3160-47e6-a831-a0981e2e8e3d",
   "metadata": {},
   "outputs": [],
   "source": [
    "from collections import defaultdict\n",
    "from ngsolve import CoefficientFunction"
   ]
  },
  {
   "cell_type": "code",
   "execution_count": 17,
   "id": "974f50f0-8d14-4f55-b00c-6190ff544487",
   "metadata": {},
   "outputs": [],
   "source": [
    "diel_perm = defaultdict(lambda: -1) #-1 ist default\n",
    "# all diel_perm[\"unknwn\"] = -1\n",
    "diel_perm[\"air\"] = 1.0\n",
    "diel_perm_cf = CoefficientFunction([diel_perm[mat] for mat in mesh.GetMaterials()])\n",
    "\n",
    "voltage = 4\n",
    "potential = defaultdict(lambda : 0)\n",
    "potential[\"bc_el1\"] = voltage\n",
    "potential_cf = CoefficientFunction([potential[bnd] for bnd in mesh.GetBoundaries()])\n",
    "potential_str=\"bc_el1\" #|bc_el2 ,..."
   ]
  },
  {
   "cell_type": "code",
   "execution_count": 18,
   "id": "bc4c722b-d914-4119-a3aa-fcba4ac56d3a",
   "metadata": {},
   "outputs": [
    {
     "data": {
      "application/vnd.jupyter.widget-view+json": {
       "model_id": "809649f9f16f412da4c56297ce9c9ce4",
       "version_major": 2,
       "version_minor": 0
      },
      "text/plain": [
       "WebGuiWidget(layout=Layout(height='50vh', width='100%'), value={'gui_settings': {}, 'ngsolve_version': '6.2.24…"
      ]
     },
     "metadata": {},
     "output_type": "display_data"
    },
    {
     "data": {
      "text/plain": [
       "BaseWebGuiScene"
      ]
     },
     "execution_count": 18,
     "metadata": {},
     "output_type": "execute_result"
    }
   ],
   "source": [
    "Draw(potential_cf,mesh)"
   ]
  },
  {
   "cell_type": "code",
   "execution_count": 19,
   "id": "8ef6739c-6863-4b98-afe1-464779804d97",
   "metadata": {},
   "outputs": [],
   "source": [
    "dirichlet_str=\"air|bc_el1\""
   ]
  },
  {
   "cell_type": "code",
   "execution_count": 20,
   "id": "f655c447-7815-45ba-a0fc-085de72a03bd",
   "metadata": {},
   "outputs": [],
   "source": [
    "from ngsolve import H1, BilinearForm,grad,dx, GridFunction, Grad"
   ]
  },
  {
   "cell_type": "code",
   "execution_count": 21,
   "id": "824672fb-3bfa-476c-89e6-309817b91f06",
   "metadata": {},
   "outputs": [],
   "source": [
    "fes = H1(mesh, order = 2, dirichlet = dirichlet_str)\n",
    "ut,vt = fes.TnT()\n",
    "a = BilinearForm(fes)\n",
    "\n",
    "a+= diel_perm_cf * grad(ut)*grad(vt)*dx\n",
    "a.Assemble()\n",
    "u = GridFunction(fes, name=\"Potential\")\n",
    "u.Set(potential_cf, definedon=mesh.Boundaries(potential_str))\n",
    "f = u.vec.CreateVector()\n",
    "f.data = a.mat*u.vec\n",
    "u.vec.data -= a.mat.Inverse(fes.FreeDofs(), inverse=\"sparsecholesky\") *f"
   ]
  },
  {
   "cell_type": "code",
   "execution_count": 22,
   "id": "11633840-b200-4c83-a019-668e704df16d",
   "metadata": {},
   "outputs": [
    {
     "data": {
      "application/vnd.jupyter.widget-view+json": {
       "model_id": "e257880dae6c4ee2acb37303c3211f43",
       "version_major": 2,
       "version_minor": 0
      },
      "text/plain": [
       "WebGuiWidget(layout=Layout(height='50vh', width='100%'), value={'gui_settings': {}, 'ngsolve_version': '6.2.24…"
      ]
     },
     "metadata": {},
     "output_type": "display_data"
    },
    {
     "data": {
      "text/plain": [
       "BaseWebGuiScene"
      ]
     },
     "execution_count": 22,
     "metadata": {},
     "output_type": "execute_result"
    }
   ],
   "source": [
    "Draw(u)"
   ]
  },
  {
   "cell_type": "code",
   "execution_count": null,
   "id": "5811e4ea-9880-489d-b1ae-3dc2ca6586b4",
   "metadata": {},
   "outputs": [],
   "source": []
  },
  {
   "cell_type": "code",
   "execution_count": null,
   "id": "7638d93b-528a-4ff7-b36c-5b434557c51b",
   "metadata": {},
   "outputs": [],
   "source": []
  },
  {
   "cell_type": "code",
   "execution_count": null,
   "id": "939e6869-e800-4343-909f-48dc4b057a72",
   "metadata": {},
   "outputs": [],
   "source": []
  },
  {
   "cell_type": "markdown",
   "id": "91bb9536-46f3-43f5-bb23-608bdc178243",
   "metadata": {},
   "source": [
    "## 3d plate capacitor"
   ]
  },
  {
   "cell_type": "code",
   "execution_count": null,
   "id": "88e0eecf-6aa7-4b6b-80a4-8d080f73b5ab",
   "metadata": {},
   "outputs": [],
   "source": [
    "from netgen.occ import *\n",
    "#from ngsolve import *\n",
    "from ngsolve.webgui import Draw\n",
    "# import netgen.gui\n",
    "from ngsolve import Mesh"
   ]
  },
  {
   "cell_type": "code",
   "execution_count": null,
   "id": "8b28c015-5456-4d8b-843d-d6f7a7017061",
   "metadata": {},
   "outputs": [],
   "source": [
    "# gen mesh\n",
    "el1 = Box(Pnt(-0.5,-0.5,-0.6),Pnt(0.5,0.5,-0.5)).bc(\"bc_el1\").mat(\"egal\")\n",
    "el2 = Box(Pnt(-0.5,-0.5,0.5),Pnt(0.5,0.5,0.6)).bc(\"bc_el2\").mat(\"egal\")\n",
    "air = Box(Pnt(-0.5,-0.5,-0.6), Pnt(0.5,0.5,0.6)) - el1 - el2\n",
    "\n",
    "el1.mat(\"unknwn\")\n",
    "el2.mat(\"unknwn\")\n",
    "air.mat(\"air\")\n",
    "geo = OCCGeometry(Glue([air, el1, el2]))\n",
    "mesh = Mesh(geo.GenerateMesh(maxh=2))"
   ]
  },
  {
   "cell_type": "code",
   "execution_count": null,
   "id": "35bee237-7455-42cd-b8db-f6369ffd0df1",
   "metadata": {},
   "outputs": [],
   "source": [
    "Draw(mesh)"
   ]
  },
  {
   "cell_type": "code",
   "execution_count": null,
   "id": "c0ce4c07-3447-4cab-924a-894374c60fff",
   "metadata": {},
   "outputs": [],
   "source": [
    "print(mesh.GetBoundaries())"
   ]
  },
  {
   "cell_type": "code",
   "execution_count": null,
   "id": "b5ea88f7-4098-4e49-bd3f-2499bb9b8813",
   "metadata": {},
   "outputs": [],
   "source": [
    "print(mesh.GetMaterials())"
   ]
  },
  {
   "cell_type": "code",
   "execution_count": null,
   "id": "a412174f-245a-4b2f-89e5-3dcf1d9c3cb3",
   "metadata": {},
   "outputs": [],
   "source": [
    "from collections import defaultdict\n",
    "from ngsolve import CoefficientFunction"
   ]
  },
  {
   "cell_type": "code",
   "execution_count": null,
   "id": "e47d9e89-f894-46de-a7fa-e0528a7b120c",
   "metadata": {},
   "outputs": [],
   "source": [
    "diel_perm = defaultdict(lambda: -1) #-1 ist default\n",
    "# all diel_perm[\"unknwn\"] = -1\n",
    "diel_perm[\"air\"] = 1.0\n",
    "diel_perm_cf = CoefficientFunction([diel_perm[mat] for mat in mesh.GetMaterials()])\n",
    "\n",
    "voltage = 4\n",
    "potential = defaultdict(lambda : 0)\n",
    "potential[\"bc_el1\"] = voltage/2\n",
    "potential[\"bc_el2\"] = -voltage/2\n",
    "potential_cf = CoefficientFunction([potential[bnd] for bnd in mesh.GetBoundaries()])\n",
    "potential_str=\"bc_el1|bc_el2\""
   ]
  },
  {
   "cell_type": "code",
   "execution_count": null,
   "id": "b39086c5-bd89-4045-a6cb-51afd1b10e9d",
   "metadata": {},
   "outputs": [],
   "source": [
    "Draw(potential_cf,mesh,\"Potential\")"
   ]
  },
  {
   "cell_type": "code",
   "execution_count": null,
   "id": "d90c678e-7bf5-42b6-be95-14f9211846e3",
   "metadata": {},
   "outputs": [],
   "source": [
    "dirichlet_str=\"air|bc_el1|bc_el2\""
   ]
  },
  {
   "cell_type": "code",
   "execution_count": null,
   "id": "999c4ee2-3bd9-42cc-85a6-caf69292e769",
   "metadata": {},
   "outputs": [],
   "source": [
    "from ngsolve import H1, BilinearForm,grad,dx, GridFunction, Grad"
   ]
  },
  {
   "cell_type": "code",
   "execution_count": null,
   "id": "89d25100-0c4f-486c-b220-cfdf181cf504",
   "metadata": {},
   "outputs": [],
   "source": [
    "fes = H1(mesh, order = 3, dirichlet = dirichlet_str)\n",
    "ut,vt = fes.TnT()\n",
    "a = BilinearForm(fes)\n",
    "\n",
    "a+= diel_perm_cf * grad(ut)*grad(vt)*dx\n",
    "a.Assemble()\n",
    "u = GridFunction(fes, name=\"Potential\")\n",
    "u.Set(potential_cf, definedon=mesh.Boundaries(potential_str))\n",
    "f = u.vec.CreateVector()\n",
    "f.data = a.mat*u.vec\n",
    "u.vec.data -= a.mat.Inverse(fes.FreeDofs(), inverse=\"sparsecholesky\") *f"
   ]
  },
  {
   "cell_type": "code",
   "execution_count": null,
   "id": "0404f6df-e30f-4eac-b1c5-30e0286b1b83",
   "metadata": {},
   "outputs": [],
   "source": [
    "Draw(u)"
   ]
  },
  {
   "cell_type": "code",
   "execution_count": null,
   "id": "84f4314f-212e-4152-b619-0cfea7c8fa8b",
   "metadata": {},
   "outputs": [],
   "source": [
    "# E = -Grad(u)\n",
    "# Draw(E, mesh, \"E\")"
   ]
  },
  {
   "cell_type": "code",
   "execution_count": null,
   "id": "7bb7b8ac-1f21-4aab-8ec5-b3dfc687e696",
   "metadata": {},
   "outputs": [],
   "source": []
  },
  {
   "cell_type": "markdown",
   "id": "015686dc-0d33-4933-b724-2eea5eaef0d0",
   "metadata": {},
   "source": [
    "# 3d"
   ]
  },
  {
   "cell_type": "code",
   "execution_count": null,
   "id": "03eee448-79ad-42dc-b0f7-a95079dc28f0",
   "metadata": {},
   "outputs": [],
   "source": []
  },
  {
   "cell_type": "code",
   "execution_count": null,
   "id": "b6c1c466-828c-48ab-a0ea-8f8feb8cb1bf",
   "metadata": {},
   "outputs": [],
   "source": [
    "from ngsolve.webgui import Draw\n",
    "from ngsolve import Mesh\n",
    "from netgen.csg import *"
   ]
  },
  {
   "cell_type": "code",
   "execution_count": null,
   "id": "62d7226c-49f7-4a89-b0d7-bac224a3f2ea",
   "metadata": {},
   "outputs": [],
   "source": [
    "cube1 = OrthoBrick(Pnt(-10,10,-9.5), Pnt(10,10,9.5))\n",
    "air = Sphere((0,0,0),20) - cube1\n",
    "\n",
    "geo = CSGeometry()\n",
    "geo.Add(air)\n",
    "geo.Add(cube1)"
   ]
  },
  {
   "cell_type": "code",
   "execution_count": null,
   "id": "9a958db1-d078-46d0-b84b-7dd65d9e46b6",
   "metadata": {},
   "outputs": [],
   "source": [
    "mesh = Mesh(geo.GenerateMesh(maxh=5))\n",
    "Draw (mesh)"
   ]
  }
 ],
 "metadata": {
  "kernelspec": {
   "display_name": "Python 3 (ipykernel)",
   "language": "python",
   "name": "python3"
  },
  "language_info": {
   "codemirror_mode": {
    "name": "ipython",
    "version": 3
   },
   "file_extension": ".py",
   "mimetype": "text/x-python",
   "name": "python",
   "nbconvert_exporter": "python",
   "pygments_lexer": "ipython3",
   "version": "3.10.13"
  }
 },
 "nbformat": 4,
 "nbformat_minor": 5
}
