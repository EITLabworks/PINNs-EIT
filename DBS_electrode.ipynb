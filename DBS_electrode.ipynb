{
 "cells": [
  {
   "cell_type": "code",
   "execution_count": 1,
   "id": "43dcb65f-53b4-4d9c-b9b7-8190e32d6c78",
   "metadata": {},
   "outputs": [],
   "source": [
    "import numpy as np\n",
    "from ngsolve.webgui import Draw\n",
    "from pinnfem import (\n",
    "    Circ,\n",
    "    Rect,\n",
    "    exclude_points_in_region,\n",
    "    get_vals_of_points,\n",
    "    plot_geo,\n",
    "    plot_test_points,\n",
    "    solve,\n",
    "    wrap_to_mesh,\n",
    ")"
   ]
  },
  {
   "cell_type": "code",
   "execution_count": 23,
   "id": "41f494a5-139c-4ed1-a726-74644306905c",
   "metadata": {},
   "outputs": [
    {
     "name": "stdout",
     "output_type": "stream",
     "text": [
      "Got a list of 4 geometries.\n"
     ]
    },
    {
     "data": {
      "image/png": "[encoded data removed]",
      "text/plain": [
       "<Figure size 640x480 with 1 Axes>"
      ]
     },
     "metadata": {},
     "output_type": "display_data"
    }
   ],
   "source": [
    "solve_BC = {\n",
    "    \"bc\": \"default\",\n",
    "    \"mat\": \"tissue\",\n",
    "    \"mat_perm\": 1,\n",
    "    \"pot_val\": 0,\n",
    "}\n",
    "Ω = Rect(-1, -1, 2, 2, BC=solve_BC)\n",
    "\n",
    "\n",
    "solve_BC = {\"bc\": \"bc_plate1\", \"mat\": \"el_mat\", \"mat_perm\": 1, \"pot_val\": 10}\n",
    "plate1 = Rect(-0.2, 0.5, 0.4, 0.4, BC=solve_BC)\n",
    "\n",
    "\n",
    "solve_BC = {\"bc\": \"bc_isol\", \"mat\": \"is_mat\", \"mat_perm\": 0.1, \"pot_val\": 0}\n",
    "isltr = Rect(-0.2, 0.1, 0.4, 0.4, BC=solve_BC)\n",
    "\n",
    "\n",
    "solve_BC = {\"bc\": \"bc_plate2\", \"mat\": \"el_mat\", \"mat_perm\": 1.0, \"pot_val\": -10}\n",
    "# plate2 = Circ(-0.5, -0.5, 0.2, BC=solve_BC)\n",
    "plate2 = Rect(-0.2, -0.3, 0.4, 0.4, BC=solve_BC)\n",
    "\n",
    "plot_geo([Ω, plate1, isltr, plate2])  # plate3"
   ]
  },
  {
   "cell_type": "code",
   "execution_count": 24,
   "id": "f48a5a1f-3cd5-4d1c-b2bc-4a3f25d11c9c",
   "metadata": {},
   "outputs": [
    {
     "data": {
      "application/vnd.jupyter.widget-view+json": {
       "model_id": "21ea21f763e2452883712884a89637b1",
       "version_major": 2,
       "version_minor": 0
      },
      "text/plain": [
       "WebGuiWidget(layout=Layout(height='50vh', width='100%'), value={'gui_settings': {}, 'ngsolve_version': '6.2.24…"
      ]
     },
     "metadata": {},
     "output_type": "display_data"
    }
   ],
   "source": [
    "refinement = 0.05\n",
    "mesh = wrap_to_mesh(Ω, [plate1, isltr, plate2], refinement)\n",
    "# solve and get grid function\n",
    "gfu = solve(Ω, [plate1, isltr, plate2], refinement, solve_for=\"pot\")  # plate3"
   ]
  },
  {
   "cell_type": "code",
   "execution_count": 25,
   "id": "c055677b-d484-4a61-92d0-3c870f303f7a",
   "metadata": {},
   "outputs": [
    {
     "data": {
      "application/vnd.jupyter.widget-view+json": {
       "model_id": "ae7906cd188f45eeac814269f9cc11f5",
       "version_major": 2,
       "version_minor": 0
      },
      "text/plain": [
       "WebGuiWidget(layout=Layout(height='50vh', width='100%'), value={'gui_settings': {}, 'ngsolve_version': '6.2.24…"
      ]
     },
     "metadata": {},
     "output_type": "display_data"
    }
   ],
   "source": [
    "refinement = 0.05\n",
    "\n",
    "gfu = solve(Ω, [plate1, isltr, plate2], refinement, solve_for=\"E\")  # plate3"
   ]
  },
  {
   "cell_type": "code",
   "execution_count": null,
   "id": "51010dd0-d585-4d86-a867-bbdc6a703c45",
   "metadata": {},
   "outputs": [],
   "source": []
  },
  {
   "cell_type": "code",
   "execution_count": null,
   "id": "b22c8885-99c0-43b5-a26a-c2c055e596c4",
   "metadata": {},
   "outputs": [],
   "source": []
  }
 ],
 "metadata": {
  "kernelspec": {
   "display_name": "Python 3 (ipykernel)",
   "language": "python",
   "name": "python3"
  },
  "language_info": {
   "codemirror_mode": {
    "name": "ipython",
    "version": 3
   },
   "file_extension": ".py",
   "mimetype": "text/x-python",
   "name": "python",
   "nbconvert_exporter": "python",
   "pygments_lexer": "ipython3",
   "version": "3.10.13"
  }
 },
 "nbformat": 4,
 "nbformat_minor": 5
}
