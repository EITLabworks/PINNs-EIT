{
 "cells": [
  {
   "cell_type": "code",
   "execution_count": 1,
   "id": "9894128b-14de-4948-8e6e-bd0c3dc167ba",
   "metadata": {},
   "outputs": [],
   "source": [
    "import numpy as np\n",
    "import matplotlib.pyplot as plt\n",
    "\n",
    "from pinneit import Circ, Rect, plot_geo, exclude_points_in_region, plot_prediction"
   ]
  },
  {
   "cell_type": "code",
   "execution_count": 2,
   "id": "a60b3333-b0d2-4b85-a6c3-269087da7fe6",
   "metadata": {},
   "outputs": [],
   "source": [
    "Ω_bc = {\"material\": \"mat1\", \"mat_val\": 0, \"bc\": \"outer\"}  # mat1 -> background\n",
    "Ω = Rect(-1, -1, 2, 2, BC=Ω_bc)\n",
    "Γ_bc = {\"material\": \"mat2\", \"mat_val\": 100, \"bc\": \"bc_circle1\"}  # mat2 -> electrode\n",
    "Γ = Circ(0.5, 0.5, 0.1, BC=Γ_bc)\n",
    "Γ_bc = {\"material\": \"mat3\", \"mat_val\": -100, \"bc\": \"bc_circle2\"}  # mat2 -> electrode\n",
    "Γ2 = Circ(-0.5, -0.5, 0.1, BC=Γ_bc)"
   ]
  },
  {
   "cell_type": "code",
   "execution_count": 3,
   "id": "2d630be2-ce28-4b2d-bd67-4ef458a01216",
   "metadata": {},
   "outputs": [
    {
     "name": "stdout",
     "output_type": "stream",
     "text": [
      "Got a list of 3 geometries.\n"
     ]
    },
    {
     "data": {
      "image/png": "[encoded data removed]",
      "text/plain": [
       "<Figure size 640x480 with 1 Axes>"
      ]
     },
     "metadata": {},
     "output_type": "display_data"
    }
   ],
   "source": [
    "plot_geo([Ω, Γ, Γ2])"
   ]
  },
  {
   "cell_type": "code",
   "execution_count": 4,
   "id": "c777326c-4ac8-4bb7-8e9a-5349ad181b65",
   "metadata": {},
   "outputs": [],
   "source": [
    "from netgen.geom2d import CSG2d, Circle, Rectangle\n",
    "from ngsolve.webgui import Draw\n",
    "from ngsolve import Mesh, VOL, H1, GridFunction, BilinearForm\n",
    "\n",
    "\n",
    "def create_geo_component(geometry):\n",
    "    if geometry.geo_type == \"Rect\":\n",
    "        domain = Rectangle(\n",
    "            pmin=(geometry.x_min, geometry.y_min),\n",
    "            pmax=(geometry.x_max, geometry.y_max),\n",
    "            mat=geometry.BC[\"material\"],\n",
    "            bc=geometry.BC[\"bc\"],\n",
    "        )\n",
    "    elif geometry.geo_type == \"Circ\":\n",
    "        domain = Circle(\n",
    "            center=(geometry.x, geometry.y),\n",
    "            radius=geometry.r,\n",
    "            mat=geometry.BC[\"material\"],\n",
    "            bc=geometry.BC[\"bc\"],\n",
    "        )\n",
    "    return domain\n",
    "\n",
    "\n",
    "def wrap_to_mesh(main, interior_s, refinement=0.05, draw=False):\n",
    "    if isinstance(interior_s, list):\n",
    "        print(f\"Got a list of {len(interior_s)} geometries.\")\n",
    "    else:\n",
    "        interior_s = [interior_s]\n",
    "\n",
    "    geo = CSG2d()\n",
    "\n",
    "    regionCFf_dict = {main.BC[\"material\"]: main.BC[\"mat_val\"]}\n",
    "    background = create_geo_component(main)\n",
    "\n",
    "    for ints in interior_s:\n",
    "        regionCFf_dict[ints.BC[\"material\"]] = ints.BC[\"mat_val\"]\n",
    "        sub_domain = create_geo_component(ints)\n",
    "        background = background - sub_domain  # \"-\" is subtsraction, \"*\" is union\n",
    "    geo.Add(background)\n",
    "\n",
    "    mesh = geo.GenerateMesh(maxh=refinement)\n",
    "    mesh = Mesh(mesh)\n",
    "    # curve the mesh elements for geometry approximation of given order\n",
    "    mesh.Curve(3)\n",
    "    print(\"boundaries:\", mesh.GetBoundaries())\n",
    "    # cf = mesh.RegionCF(VOL, regionCFf_dict)\n",
    "    if draw:\n",
    "        # Draw(cf, mesh)\n",
    "        Draw(mesh)\n",
    "    return mesh"
   ]
  },
  {
   "cell_type": "code",
   "execution_count": 5,
   "id": "e59e990b-556f-4a72-b9ed-496e365dfad1",
   "metadata": {},
   "outputs": [
    {
     "name": "stdout",
     "output_type": "stream",
     "text": [
      "Got a list of 2 geometries.\n",
      "boundaries: ('outer', 'outer', 'outer', 'outer', 'bc_circle2', 'bc_circle2', 'bc_circle2', 'bc_circle2', 'bc_circle1', 'bc_circle1', 'bc_circle1', 'bc_circle1')\n"
     ]
    }
   ],
   "source": [
    "mesh = wrap_to_mesh(Ω, [Γ, Γ2])"
   ]
  },
  {
   "cell_type": "code",
   "execution_count": 23,
   "id": "e2cb2d51-db2f-4d67-bd55-900a1f6b0455",
   "metadata": {},
   "outputs": [],
   "source": [
    "# Draw(mesh)"
   ]
  },
  {
   "cell_type": "markdown",
   "id": "e67c7cc2-7440-46be-b4fe-734cbb3319dd",
   "metadata": {},
   "source": [
    "## 2D"
   ]
  },
  {
   "cell_type": "code",
   "execution_count": 1,
   "id": "a2e6a2aa-6206-48ce-808d-9ecb560bca9a",
   "metadata": {},
   "outputs": [],
   "source": [
    "from netgen.geom2d import CSG2d, Circle, Rectangle\n",
    "from ngsolve import Mesh\n",
    "from ngsolve.webgui import Draw"
   ]
  },
  {
   "cell_type": "code",
   "execution_count": 3,
   "id": "f3d8c432-d56c-406d-8aa5-7c0388ca57d2",
   "metadata": {},
   "outputs": [
    {
     "data": {
      "application/vnd.jupyter.widget-view+json": {
       "model_id": "a78f60f0d8bb49d2b9c4ebc2e8216018",
       "version_major": 2,
       "version_minor": 0
      },
      "text/plain": [
       "WebGuiWidget(layout=Layout(height='50vh', width='100%'), value={'gui_settings': {}, 'ngsolve_version': '6.2.24…"
      ]
     },
     "metadata": {},
     "output_type": "display_data"
    },
    {
     "data": {
      "text/plain": [
       "BaseWebGuiScene"
      ]
     },
     "execution_count": 3,
     "metadata": {},
     "output_type": "execute_result"
    }
   ],
   "source": [
    "geo = CSG2d()\n",
    "\n",
    "# el1 = Rectangle(pmin=(-1.5,-0.5), pmax=(-1,0.5), bc = \"bc_el1\", mat = \"el_mat\")\n",
    "# el2 = Rectangle(pmin=(1.5,-0.5), pmax=(1.5,0.5), bc = \"bc_el2\", mat = \"el_mat\")\n",
    "\n",
    "el1 = Circle(center=(1.5, 0), radius=0.3, bc=\"bc_el1\", mat=\"el_mat\")\n",
    "el2 = Circle(center=(-1.5, 0), radius=0.3, bc=\"bc_el2\", mat=\"el_mat\")\n",
    "\n",
    "domain = Rectangle(pmin=(-3, -2), pmax=(3, 2), bc=\"default\", mat=\"air\") - el1 - el2\n",
    "\n",
    "geo.Add(domain)\n",
    "geo.Add(el1)\n",
    "geo.Add(el2)\n",
    "\n",
    "mesh = Mesh(geo.GenerateMesh(maxh=0.2))\n",
    "Draw(mesh)"
   ]
  },
  {
   "cell_type": "code",
   "execution_count": 4,
   "id": "54911b59-3160-47e6-a831-a0981e2e8e3d",
   "metadata": {},
   "outputs": [],
   "source": [
    "from collections import defaultdict\n",
    "from ngsolve import CoefficientFunction"
   ]
  },
  {
   "cell_type": "code",
   "execution_count": 5,
   "id": "3646d594-62f8-4dd8-9f9b-df9befc76e10",
   "metadata": {},
   "outputs": [
    {
     "name": "stdout",
     "output_type": "stream",
     "text": [
      "('air', 'el_mat', 'el_mat')\n"
     ]
    }
   ],
   "source": [
    "print(mesh.GetMaterials())"
   ]
  },
  {
   "cell_type": "code",
   "execution_count": 6,
   "id": "8ce99efe-bba0-4c46-a24b-2d3d5f407754",
   "metadata": {},
   "outputs": [],
   "source": [
    "diel_perm = defaultdict(lambda: -1)  # -1 is default\n",
    "# all diel_perm[\"unknwn\"] = -1\n",
    "diel_perm[\"air\"] = 1.0\n",
    "diel_perm[\"el_mat\"] = 5.0\n",
    "\n",
    "diel_perm_cf = CoefficientFunction([diel_perm[mat] for mat in mesh.GetMaterials()])\n",
    "# diel_perm_cf = CoefficientFunction([diel_perm[mat] for mat in mesh.GetMaterials()])"
   ]
  },
  {
   "cell_type": "code",
   "execution_count": 7,
   "id": "7aab72fd-f947-4c22-90cb-423581101ef2",
   "metadata": {},
   "outputs": [
    {
     "name": "stdout",
     "output_type": "stream",
     "text": [
      "('default', 'default', 'default', 'default', 'bc_el2', 'bc_el2', 'bc_el2', 'bc_el2', 'bc_el1', 'bc_el1', 'bc_el1', 'bc_el1', 'bc_el1', 'bc_el1', 'bc_el1', 'bc_el1', 'bc_el2', 'bc_el2', 'bc_el2', 'bc_el2')\n"
     ]
    }
   ],
   "source": [
    "print(mesh.GetBoundaries())"
   ]
  },
  {
   "cell_type": "code",
   "execution_count": 8,
   "id": "974f50f0-8d14-4f55-b00c-6190ff544487",
   "metadata": {},
   "outputs": [],
   "source": [
    "voltage = 4\n",
    "\n",
    "potential = defaultdict(lambda: 0)\n",
    "\n",
    "potential[\"bc_el1\"] = voltage\n",
    "# potential[\"bc_el2\"] = -voltage\n",
    "\n",
    "potential_cf = CoefficientFunction([potential[bnd] for bnd in mesh.GetBoundaries()])\n",
    "potential_str = \"bc_el1\"  # |bc_el2\" #|bc_el2 ,..."
   ]
  },
  {
   "cell_type": "code",
   "execution_count": 9,
   "id": "bc4c722b-d914-4119-a3aa-fcba4ac56d3a",
   "metadata": {},
   "outputs": [
    {
     "data": {
      "application/vnd.jupyter.widget-view+json": {
       "model_id": "03064d1e769c404bac6b62cd4079f322",
       "version_major": 2,
       "version_minor": 0
      },
      "text/plain": [
       "WebGuiWidget(layout=Layout(height='50vh', width='100%'), value={'gui_settings': {}, 'ngsolve_version': '6.2.24…"
      ]
     },
     "metadata": {},
     "output_type": "display_data"
    },
    {
     "data": {
      "text/plain": [
       "BaseWebGuiScene"
      ]
     },
     "execution_count": 9,
     "metadata": {},
     "output_type": "execute_result"
    }
   ],
   "source": [
    "Draw(potential_cf, mesh)"
   ]
  },
  {
   "cell_type": "code",
   "execution_count": 10,
   "id": "8ef6739c-6863-4b98-afe1-464779804d97",
   "metadata": {},
   "outputs": [],
   "source": [
    "dirichlet_str = \"air|bc_el1|bc_el2\""
   ]
  },
  {
   "cell_type": "code",
   "execution_count": 11,
   "id": "f655c447-7815-45ba-a0fc-085de72a03bd",
   "metadata": {},
   "outputs": [],
   "source": [
    "from ngsolve import H1, BilinearForm, grad, dx, GridFunction, Grad"
   ]
  },
  {
   "cell_type": "code",
   "execution_count": 12,
   "id": "824672fb-3bfa-476c-89e6-309817b91f06",
   "metadata": {},
   "outputs": [],
   "source": [
    "fes = H1(mesh, order=2, dirichlet=dirichlet_str)\n",
    "ut, vt = fes.TnT()\n",
    "a = BilinearForm(fes)\n",
    "\n",
    "a += diel_perm_cf * grad(ut) * grad(vt) * dx\n",
    "a.Assemble()\n",
    "u = GridFunction(fes, name=\"Potential\")\n",
    "u.Set(potential_cf, definedon=mesh.Boundaries(potential_str))\n",
    "f = u.vec.CreateVector()\n",
    "f.data = a.mat * u.vec\n",
    "u.vec.data -= a.mat.Inverse(fes.FreeDofs(), inverse=\"sparsecholesky\") * f"
   ]
  },
  {
   "cell_type": "code",
   "execution_count": 13,
   "id": "11633840-b200-4c83-a019-668e704df16d",
   "metadata": {},
   "outputs": [
    {
     "data": {
      "application/vnd.jupyter.widget-view+json": {
       "model_id": "3eb44f3e971a47ec8df3075ce2063052",
       "version_major": 2,
       "version_minor": 0
      },
      "text/plain": [
       "WebGuiWidget(layout=Layout(height='50vh', width='100%'), value={'gui_settings': {}, 'ngsolve_version': '6.2.24…"
      ]
     },
     "metadata": {},
     "output_type": "display_data"
    },
    {
     "data": {
      "text/plain": [
       "BaseWebGuiScene"
      ]
     },
     "execution_count": 13,
     "metadata": {},
     "output_type": "execute_result"
    }
   ],
   "source": [
    "Draw(u)"
   ]
  },
  {
   "cell_type": "code",
   "execution_count": null,
   "id": "049561f0-688a-4a66-997a-ffe0b7a78ca5",
   "metadata": {},
   "outputs": [],
   "source": [
    "# E = -Grad(u)\n",
    "# Draw(E, mesh, \"E\")"
   ]
  }
 ],
 "metadata": {
  "kernelspec": {
   "display_name": "Python 3 (ipykernel)",
   "language": "python",
   "name": "python3"
  },
  "language_info": {
   "codemirror_mode": {
    "name": "ipython",
    "version": 3
   },
   "file_extension": ".py",
   "mimetype": "text/x-python",
   "name": "python",
   "nbconvert_exporter": "python",
   "pygments_lexer": "ipython3",
   "version": "3.10.13"
  }
 },
 "nbformat": 4,
 "nbformat_minor": 5
}
